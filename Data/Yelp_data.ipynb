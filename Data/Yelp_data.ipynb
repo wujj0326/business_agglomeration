{
  "nbformat": 4,
  "nbformat_minor": 0,
  "metadata": {
    "colab": {
      "name": "Yelp_data",
      "provenance": [],
      "collapsed_sections": [
        "eUq_CKHQS2Un",
        "kbkccUaacvv_"
      ],
      "machine_shape": "hm",
      "include_colab_link": true
    },
    "kernelspec": {
      "name": "python3",
      "display_name": "Python 3"
    }
  },
  "cells": [
    {
      "cell_type": "markdown",
      "metadata": {
        "id": "view-in-github",
        "colab_type": "text"
      },
      "source": [
        "<a href=\"https://colab.research.google.com/github/wujj0326/business_agglomeration/blob/master/Data/Yelp_data.ipynb\" target=\"_parent\"><img src=\"https://colab.research.google.com/assets/colab-badge.svg\" alt=\"Open In Colab\"/></a>"
      ]
    },
    {
      "cell_type": "markdown",
      "metadata": {
        "id": "As3AEQageEsL",
        "colab_type": "text"
      },
      "source": [
        "# Yelp Dataset for RMDS Capstone"
      ]
    },
    {
      "cell_type": "code",
      "metadata": {
        "id": "jrdXn-rLeHV7",
        "colab_type": "code",
        "colab": {}
      },
      "source": [
        "from google.colab import drive\n",
        "drive.mount('/content/drive')"
      ],
      "execution_count": null,
      "outputs": []
    },
    {
      "cell_type": "code",
      "metadata": {
        "id": "b_5bew5neFGp",
        "colab_type": "code",
        "colab": {}
      },
      "source": [
        "import json \n",
        "import tarfile\n",
        "from pandas import json_normalize"
      ],
      "execution_count": 18,
      "outputs": []
    },
    {
      "cell_type": "code",
      "metadata": {
        "id": "6YJjBThYeOvp",
        "colab_type": "code",
        "colab": {}
      },
      "source": [
        "with tarfile.open(\"/content/drive/My Drive/Capstone/yelp_dataset.tar\") as tf:\n",
        "  # tf.extractall()\n",
        "  members = tf.getmembers()\n",
        "  b = tf.extractfile(members[5])\n",
        "  r = tf.extractfile(members[6])\n",
        "  b1 = b.readlines()\n",
        "  r1 = r.readlines()"
      ],
      "execution_count": 3,
      "outputs": []
    },
    {
      "cell_type": "code",
      "metadata": {
        "id": "mL9XHrOneQ-R",
        "colab_type": "code",
        "colab": {}
      },
      "source": [
        "# read as json and filter it to include only Nevada\n",
        "b_json = []\n",
        "b_vegas = []\n",
        "for st in b1:\n",
        "  b_json.append(json.loads(st))\n",
        "for b_filter in b_json:\n",
        "  if b_filter['state']=='NV':\n",
        "    b_vegas.append(b_filter)"
      ],
      "execution_count": 4,
      "outputs": []
    },
    {
      "cell_type": "code",
      "metadata": {
        "id": "rp_a-TG3eSwZ",
        "colab_type": "code",
        "colab": {
          "base_uri": "https://localhost:8080/",
          "height": 34
        },
        "outputId": "041b16e2-2a40-487c-9a9d-f0cfba42df04"
      },
      "source": [
        "# The number of business in Nevada\n",
        "len(b_vegas)"
      ],
      "execution_count": 5,
      "outputs": [
        {
          "output_type": "execute_result",
          "data": {
            "text/plain": [
              "39084"
            ]
          },
          "metadata": {
            "tags": []
          },
          "execution_count": 5
        }
      ]
    },
    {
      "cell_type": "code",
      "metadata": {
        "id": "g6BKCurEeUAo",
        "colab_type": "code",
        "colab": {}
      },
      "source": [
        "# The business ID for the business in Nevada\n",
        "b_id = []\n",
        "for business in b_vegas:\n",
        "  b_id.append(business['business_id'])"
      ],
      "execution_count": 6,
      "outputs": []
    },
    {
      "cell_type": "code",
      "metadata": {
        "id": "GT6kMohnHejt",
        "colab_type": "code",
        "colab": {
          "base_uri": "https://localhost:8080/",
          "height": 34
        },
        "outputId": "c452b01f-3f92-4e4b-f7ea-1594eec98475"
      },
      "source": [
        "# The length of Review data\n",
        "len(r1)"
      ],
      "execution_count": 13,
      "outputs": [
        {
          "output_type": "execute_result",
          "data": {
            "text/plain": [
              "8021122"
            ]
          },
          "metadata": {
            "tags": []
          },
          "execution_count": 13
        }
      ]
    },
    {
      "cell_type": "code",
      "metadata": {
        "id": "_QSAZ7-_eVKh",
        "colab_type": "code",
        "colab": {}
      },
      "source": [
        "# Sample the first 100k review and filter it to only Nevada\n",
        "r_json = []\n",
        "r_vegas = []\n",
        "for st in r1[:100000]:\n",
        "  r_json.append(json.loads(st))\n",
        "for r_filter in r_json:\n",
        "  if r_filter['business_id'] in b_id:\n",
        "    r_vegas.append(r_filter)"
      ],
      "execution_count": 11,
      "outputs": []
    },
    {
      "cell_type": "code",
      "metadata": {
        "id": "cw1TM8a4Rlg4",
        "colab_type": "code",
        "colab": {
          "base_uri": "https://localhost:8080/",
          "height": 34
        },
        "outputId": "82309f2c-d2b5-496c-aa44-5737ad3f0104"
      },
      "source": [
        "# The length of review after filtering\n",
        "len(r_vegas)"
      ],
      "execution_count": 12,
      "outputs": [
        {
          "output_type": "execute_result",
          "data": {
            "text/plain": [
              "34079"
            ]
          },
          "metadata": {
            "tags": []
          },
          "execution_count": 12
        }
      ]
    },
    {
      "cell_type": "code",
      "metadata": {
        "id": "_Dq70C0KILtq",
        "colab_type": "code",
        "colab": {
          "base_uri": "https://localhost:8080/",
          "height": 1000
        },
        "outputId": "b6f71af8-5ccd-4bf6-a523-91c3bd06e59b"
      },
      "source": [
        "r_vegas[:10]"
      ],
      "execution_count": 14,
      "outputs": [
        {
          "output_type": "execute_result",
          "data": {
            "text/plain": [
              "[{'business_id': '-MhfebM0QIsKt87iDN-FNw',\n",
              "  'cool': 0,\n",
              "  'date': '2015-04-15 05:21:16',\n",
              "  'funny': 0,\n",
              "  'review_id': 'xQY8N_XvtGbearJ5X4QryQ',\n",
              "  'stars': 2.0,\n",
              "  'text': 'As someone who has worked with many museums, I was eager to visit this gallery on my most recent trip to Las Vegas. When I saw they would be showing infamous eggs of the House of Faberge from the Virginia Museum of Fine Arts (VMFA), I knew I had to go!\\n\\nTucked away near the gelateria and the garden, the Gallery is pretty much hidden from view. It\\'s what real estate agents would call \"cozy\" or \"charming\" - basically any euphemism for small.\\n\\nThat being said, you can still see wonderful art at a gallery of any size, so why the two *s you ask? Let me tell you:\\n\\n* pricing for this, while relatively inexpensive for a Las Vegas attraction, is completely over the top. For the space and the amount of art you can fit in there, it is a bit much.\\n* it\\'s not kid friendly at all. Seriously, don\\'t bring them.\\n* the security is not trained properly for the show. When the curating and design teams collaborate for exhibitions, there is a definite flow. That means visitors should view the art in a certain sequence, whether it be by historical period or cultural significance (this is how audio guides are usually developed). When I arrived in the gallery I could not tell where to start, and security was certainly not helpful. I was told to \"just look around\" and \"do whatever.\" \\n\\nAt such a *fine* institution, I find the lack of knowledge and respect for the art appalling.',\n",
              "  'useful': 5,\n",
              "  'user_id': 'OwjRMXRC0KyPrIlcjaXeFQ'},\n",
              " {'business_id': '5JxlZaqCnk1MnbgRirs40Q',\n",
              "  'cool': 0,\n",
              "  'date': '2011-05-27 05:30:52',\n",
              "  'funny': 0,\n",
              "  'review_id': 'i6g_oA9Yf9Y31qt0wibXpw',\n",
              "  'stars': 1.0,\n",
              "  'text': 'Dismal, lukewarm, defrosted-tasting \"TexMex\" glop;\\n\\nMumbly, unengaged waiter;\\n\\nClueless manager, who seeing us with barely nibbled entrees\\non plates shoved forward for pickup, thanked us\\nperfunctorily for our patronage;\\n\\nWe\\'re from the Texas Hill Country;\\ndown there, we jail critters \\nwho serve up grub this bad,\\nfor their own protection.\\n\\nNever, never, NEVER again\\n(Back to Yard House for real food)',\n",
              "  'useful': 0,\n",
              "  'user_id': 'ofKDkJKXSKZXu5xJNGiiBQ'},\n",
              " {'business_id': 'IS4cv902ykd8wj1TR0N3-A',\n",
              "  'cool': 0,\n",
              "  'date': '2017-01-14 21:56:57',\n",
              "  'funny': 0,\n",
              "  'review_id': '6TdNDKywdbjoTkizeMce8A',\n",
              "  'stars': 4.0,\n",
              "  'text': 'Oh happy day, finally have a Canes near my casa. Yes just as others are griping about the Drive thru is packed just like most of the other canes in the area but I like to go sit down to enjoy my chicken. The cashiers are pleasant and as far as food wise i have yet to receive any funky chicken. The clean up crew zips around the dining area constantly so it\\'s usually well kept. My only gripe is the one fella with Red hair he makes the rounds while cleaning but no smile or personality a few nights ago he tossed the napkins i just put on the table to help go with my meal. After I was done he just reached for my tray no \"excuse me or are you done with that?\"  I realize he\\'s trying to do his job quickly but a little table manners goes along way. That being said still like to grub here and glad that there\\'s finally a Cane\\'s close to me.',\n",
              "  'useful': 0,\n",
              "  'user_id': 'UgMW8bLE0QMJDCkQ1Ax5Mg'},\n",
              " {'business_id': 'nlxHRv1zXGT0c0K51q3jDg',\n",
              "  'cool': 0,\n",
              "  'date': '2013-05-07 07:25:25',\n",
              "  'funny': 0,\n",
              "  'review_id': 'L2O_INwlrRuoX05KSjc4eg',\n",
              "  'stars': 5.0,\n",
              "  'text': \"This is definitely my favorite fast food sub shop. Ingredients are everything, and everything I see and taste here tells me that they're using top-grade fresh ingredients. The brisket sandwich is probably my favorite... and it's the one my wife ALWAYS gets. Unlike her, I often bounce around the menu to try different things. Definitely a step up from Subway, Quiznos, Jimmy Johns, etc in my opinion. As with all of my reviews, I grade each place relative to what I perceive to be its peers - so five star compared to them.\",\n",
              "  'useful': 2,\n",
              "  'user_id': '5vD2kmE25YBrbayKhykNxQ'},\n",
              " {'business_id': 'FNCJpSn0tL9iqoY3JC73qw',\n",
              "  'cool': 0,\n",
              "  'date': '2017-07-18 18:31:54',\n",
              "  'funny': 0,\n",
              "  'review_id': 'lpFIJYpsvDxyph-kPzZ6aA',\n",
              "  'stars': 5.0,\n",
              "  'text': 'Awesome office and staff, very professional and friendly. I saw Adam Garling PA-C and his assistant, they were very friendly, professional, and helpful. I highly recommend Centennial Dermatology! I will definitely return for more visits.',\n",
              "  'useful': 0,\n",
              "  'user_id': 'dsd-KNYKMpx6ma_sRWCSkQ'},\n",
              " {'business_id': 'PA61Rwk3AMwOEXHevA7nkg',\n",
              "  'cool': 0,\n",
              "  'date': '2013-12-28 21:02:55',\n",
              "  'funny': 0,\n",
              "  'review_id': 'TfVth7UNfgilv4J3exPB3A',\n",
              "  'stars': 5.0,\n",
              "  'text': \"Maria is VERY good at what she does with great prices, too! I've always had a hard time finding someone to fix my jeans just right and she did it! I'm short with a small waist and a bit of a butt :) So that means every pair of jean I get have to be altered.  And Maria does a wonderful job with reasonable prices.  She's done more than10 pairs of jeans and a few shirts and only one needed fixing.  I even lost weight and had to get a pair redone, it was a bit of a challenge but she did a beautiful job.\",\n",
              "  'useful': 0,\n",
              "  'user_id': 's5j_CRBWDCCMDJ6r7AYqjQ'},\n",
              " {'business_id': 'Naa6E0YU0Wr7jCuCE3pYtQ',\n",
              "  'cool': 0,\n",
              "  'date': '2015-07-03 21:48:51',\n",
              "  'funny': 0,\n",
              "  'review_id': 'wJMjt5C2y1RKgY0Xb9jhrA',\n",
              "  'stars': 5.0,\n",
              "  'text': 'We purchased new office furniture from this location.  We were advised the shipment would arrive in 3 business days.  The shipment was delivered the same day as promised.  We received excellent service from the first step into their showroom at their location on Dean Martin, all thru the delivery.  Very positive experience and great pricing for the quality items we purchased.  Very pleased and will be purchasing more furniture from this store.',\n",
              "  'useful': 3,\n",
              "  'user_id': '1YIQGP-a534nyksaweEFYA'},\n",
              " {'business_id': '7Ka9Pd8X9SRHs1D5EcleLg',\n",
              "  'cool': 0,\n",
              "  'date': '2017-08-07 21:36:36',\n",
              "  'funny': 0,\n",
              "  'review_id': 'mjbs5CL4eMu4o6_VtYhN3Q',\n",
              "  'stars': 1.0,\n",
              "  'text': \"If I could give less than one star, that would have been my choice.  I rent a home and Per my lease agreement it is MY responsibility to pay their Pool Service company.  Within the last year they changed to PoolServ.  I have had  major issues with new techs every week, never checking PH balances, cleaning the filter, and not showing up at all 2 weeks in the past 2 months. I have had 4 different techs in the past 4 weeks.   I have emailed and called them and they never respond back nor even acknowledged my concerns or requests.  I cannot change companies but I'm required to still pay for lousy or no service.  Attached are a couple pictures of my pool recently due to one tech just didn't put any chlorine in it at all according to the tech who came the following week to attempt to clean it up.  Please think twice before working with these people.  No one wants to work with a business that doesn't return phone calls or emails.\",\n",
              "  'useful': 0,\n",
              "  'user_id': 'TF4C-F5iqavACQgKTrbjRA'},\n",
              " {'business_id': 'd4qwVw4PcN-_2mK2o1Ro1g',\n",
              "  'cool': 0,\n",
              "  'date': '2015-02-02 06:28:00',\n",
              "  'funny': 0,\n",
              "  'review_id': 'bVTjZgRNq8ToxzvtiVrqMA',\n",
              "  'stars': 1.0,\n",
              "  'text': \"10pm on a super bowl Sunday and they're already closed?? Weak, no wonder the hard Rock is dying off...\",\n",
              "  'useful': 0,\n",
              "  'user_id': '2hRe26HSCAWbFRn5WChK-Q'},\n",
              " {'business_id': '_iGvLfEsqDwPUxRUAe6tUw',\n",
              "  'cool': 0,\n",
              "  'date': '2017-06-28 00:39:18',\n",
              "  'funny': 0,\n",
              "  'review_id': 'Hy-gUXQh3RVhE8FLH9Dt4Q',\n",
              "  'stars': 1.0,\n",
              "  'text': \"Tried to have my car repaired.  Even made an appointment.  I was told that all my appointment was for is to meet the service advisor, not get any work completed on my car.  Such a waste of time.  Even talked to the Service Manager, he didn't care.  Since that was the attitude of the service department, I can only expect that from the mechanics that would have worked on my car.  Went to another dealership, made an appointment and my car went in to be repaired.  Not told to come back later and they might get to my car. Very poor service.\",\n",
              "  'useful': 0,\n",
              "  'user_id': 'kMkWON2lmw0s-M-fwiuByg'}]"
            ]
          },
          "metadata": {
            "tags": []
          },
          "execution_count": 14
        }
      ]
    },
    {
      "cell_type": "code",
      "metadata": {
        "id": "70dX_hDRIQM0",
        "colab_type": "code",
        "colab": {}
      },
      "source": [
        "yelp_vegas = json_normalize(r_vegas)"
      ],
      "execution_count": 19,
      "outputs": []
    },
    {
      "cell_type": "code",
      "metadata": {
        "id": "S7XQBihlIoES",
        "colab_type": "code",
        "colab": {
          "base_uri": "https://localhost:8080/",
          "height": 204
        },
        "outputId": "ed897e80-84e0-41b6-a78c-b23a81bac050"
      },
      "source": [
        "yelp_vegas.head()"
      ],
      "execution_count": 20,
      "outputs": [
        {
          "output_type": "execute_result",
          "data": {
            "text/html": [
              "<div>\n",
              "<style scoped>\n",
              "    .dataframe tbody tr th:only-of-type {\n",
              "        vertical-align: middle;\n",
              "    }\n",
              "\n",
              "    .dataframe tbody tr th {\n",
              "        vertical-align: top;\n",
              "    }\n",
              "\n",
              "    .dataframe thead th {\n",
              "        text-align: right;\n",
              "    }\n",
              "</style>\n",
              "<table border=\"1\" class=\"dataframe\">\n",
              "  <thead>\n",
              "    <tr style=\"text-align: right;\">\n",
              "      <th></th>\n",
              "      <th>review_id</th>\n",
              "      <th>user_id</th>\n",
              "      <th>business_id</th>\n",
              "      <th>stars</th>\n",
              "      <th>useful</th>\n",
              "      <th>funny</th>\n",
              "      <th>cool</th>\n",
              "      <th>text</th>\n",
              "      <th>date</th>\n",
              "    </tr>\n",
              "  </thead>\n",
              "  <tbody>\n",
              "    <tr>\n",
              "      <th>0</th>\n",
              "      <td>xQY8N_XvtGbearJ5X4QryQ</td>\n",
              "      <td>OwjRMXRC0KyPrIlcjaXeFQ</td>\n",
              "      <td>-MhfebM0QIsKt87iDN-FNw</td>\n",
              "      <td>2.0</td>\n",
              "      <td>5</td>\n",
              "      <td>0</td>\n",
              "      <td>0</td>\n",
              "      <td>As someone who has worked with many museums, I...</td>\n",
              "      <td>2015-04-15 05:21:16</td>\n",
              "    </tr>\n",
              "    <tr>\n",
              "      <th>1</th>\n",
              "      <td>i6g_oA9Yf9Y31qt0wibXpw</td>\n",
              "      <td>ofKDkJKXSKZXu5xJNGiiBQ</td>\n",
              "      <td>5JxlZaqCnk1MnbgRirs40Q</td>\n",
              "      <td>1.0</td>\n",
              "      <td>0</td>\n",
              "      <td>0</td>\n",
              "      <td>0</td>\n",
              "      <td>Dismal, lukewarm, defrosted-tasting \"TexMex\" g...</td>\n",
              "      <td>2011-05-27 05:30:52</td>\n",
              "    </tr>\n",
              "    <tr>\n",
              "      <th>2</th>\n",
              "      <td>6TdNDKywdbjoTkizeMce8A</td>\n",
              "      <td>UgMW8bLE0QMJDCkQ1Ax5Mg</td>\n",
              "      <td>IS4cv902ykd8wj1TR0N3-A</td>\n",
              "      <td>4.0</td>\n",
              "      <td>0</td>\n",
              "      <td>0</td>\n",
              "      <td>0</td>\n",
              "      <td>Oh happy day, finally have a Canes near my cas...</td>\n",
              "      <td>2017-01-14 21:56:57</td>\n",
              "    </tr>\n",
              "    <tr>\n",
              "      <th>3</th>\n",
              "      <td>L2O_INwlrRuoX05KSjc4eg</td>\n",
              "      <td>5vD2kmE25YBrbayKhykNxQ</td>\n",
              "      <td>nlxHRv1zXGT0c0K51q3jDg</td>\n",
              "      <td>5.0</td>\n",
              "      <td>2</td>\n",
              "      <td>0</td>\n",
              "      <td>0</td>\n",
              "      <td>This is definitely my favorite fast food sub s...</td>\n",
              "      <td>2013-05-07 07:25:25</td>\n",
              "    </tr>\n",
              "    <tr>\n",
              "      <th>4</th>\n",
              "      <td>lpFIJYpsvDxyph-kPzZ6aA</td>\n",
              "      <td>dsd-KNYKMpx6ma_sRWCSkQ</td>\n",
              "      <td>FNCJpSn0tL9iqoY3JC73qw</td>\n",
              "      <td>5.0</td>\n",
              "      <td>0</td>\n",
              "      <td>0</td>\n",
              "      <td>0</td>\n",
              "      <td>Awesome office and staff, very professional an...</td>\n",
              "      <td>2017-07-18 18:31:54</td>\n",
              "    </tr>\n",
              "  </tbody>\n",
              "</table>\n",
              "</div>"
            ],
            "text/plain": [
              "                review_id  ...                 date\n",
              "0  xQY8N_XvtGbearJ5X4QryQ  ...  2015-04-15 05:21:16\n",
              "1  i6g_oA9Yf9Y31qt0wibXpw  ...  2011-05-27 05:30:52\n",
              "2  6TdNDKywdbjoTkizeMce8A  ...  2017-01-14 21:56:57\n",
              "3  L2O_INwlrRuoX05KSjc4eg  ...  2013-05-07 07:25:25\n",
              "4  lpFIJYpsvDxyph-kPzZ6aA  ...  2017-07-18 18:31:54\n",
              "\n",
              "[5 rows x 9 columns]"
            ]
          },
          "metadata": {
            "tags": []
          },
          "execution_count": 20
        }
      ]
    },
    {
      "cell_type": "code",
      "metadata": {
        "id": "NfKy8v7OJpNV",
        "colab_type": "code",
        "colab": {}
      },
      "source": [
        "# yelp_vegas.to_csv('yelp_vegas.csv')"
      ],
      "execution_count": 21,
      "outputs": []
    }
  ]
}