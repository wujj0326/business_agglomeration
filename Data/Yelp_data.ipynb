{
  "nbformat": 4,
  "nbformat_minor": 0,
  "metadata": {
    "colab": {
      "name": "Yelp_data",
      "provenance": [],
      "collapsed_sections": [
        "eUq_CKHQS2Un",
        "kbkccUaacvv_"
      ],
      "toc_visible": true,
      "machine_shape": "hm",
      "include_colab_link": true
    },
    "kernelspec": {
      "name": "python3",
      "display_name": "Python 3"
    }
  },
  "cells": [
    {
      "cell_type": "markdown",
      "metadata": {
        "id": "view-in-github",
        "colab_type": "text"
      },
      "source": [
        "<a href=\"https://colab.research.google.com/github/wujj0326/business_agglomeration/blob/master/Data/Yelp_data.ipynb\" target=\"_parent\"><img src=\"https://colab.research.google.com/assets/colab-badge.svg\" alt=\"Open In Colab\"/></a>"
      ]
    },
    {
      "cell_type": "markdown",
      "metadata": {
        "id": "As3AEQageEsL",
        "colab_type": "text"
      },
      "source": [
        "# Yelp Dataset for RMDS Capstone"
      ]
    },
    {
      "cell_type": "code",
      "metadata": {
        "id": "jrdXn-rLeHV7",
        "colab_type": "code",
        "colab": {}
      },
      "source": [
        "from google.colab import drive\n",
        "drive.mount('/content/drive')"
      ],
      "execution_count": null,
      "outputs": []
    },
    {
      "cell_type": "code",
      "metadata": {
        "id": "b_5bew5neFGp",
        "colab_type": "code",
        "colab": {}
      },
      "source": [
        "import json \n",
        "import tarfile\n",
        "from pandas import json_normalize\n",
        "import pandas as pd\n",
        "import random\n",
        "import numpy as np\n"
      ],
      "execution_count": 23,
      "outputs": []
    },
    {
      "cell_type": "code",
      "metadata": {
        "id": "6YJjBThYeOvp",
        "colab_type": "code",
        "colab": {}
      },
      "source": [
        "# Unzip the tarfile\n",
        "with tarfile.open(\"/content/drive/My Drive/Capstone/yelp_dataset.tar\") as tf:\n",
        "  members = tf.getmembers()\n",
        "  b = tf.extractfile(members[5])\n",
        "  r = tf.extractfile(members[6])\n",
        "  b1 = b.readlines()\n",
        "  r1 = r.readlines()"
      ],
      "execution_count": 4,
      "outputs": []
    },
    {
      "cell_type": "code",
      "metadata": {
        "id": "mL9XHrOneQ-R",
        "colab_type": "code",
        "colab": {}
      },
      "source": [
        "# read as json and filter it to include only Las Vegas\n",
        "b_json = []\n",
        "b_vegas = []\n",
        "for st in b1:\n",
        "  b_json.append(json.loads(st))\n",
        "for b_filter in b_json:\n",
        "  if b_filter['city']=='Las Vegas':\n",
        "    b_vegas.append(b_filter)"
      ],
      "execution_count": 5,
      "outputs": []
    },
    {
      "cell_type": "code",
      "metadata": {
        "id": "Ebf7w_uJ550L",
        "colab_type": "code",
        "colab": {
          "base_uri": "https://localhost:8080/",
          "height": 34
        },
        "outputId": "7bf05f6d-f9a0-4c0d-8afe-efd682f9d2d3"
      },
      "source": [
        "# the length of business data\n",
        "len(b_json)"
      ],
      "execution_count": null,
      "outputs": [
        {
          "output_type": "execute_result",
          "data": {
            "text/plain": [
              "209393"
            ]
          },
          "metadata": {
            "tags": []
          },
          "execution_count": 5
        }
      ]
    },
    {
      "cell_type": "code",
      "metadata": {
        "id": "rp_a-TG3eSwZ",
        "colab_type": "code",
        "colab": {
          "base_uri": "https://localhost:8080/",
          "height": 34
        },
        "outputId": "264eeab7-3875-4e13-9456-522d27b13777"
      },
      "source": [
        "# The number of business in Las Vegas\n",
        "len(b_vegas)"
      ],
      "execution_count": null,
      "outputs": [
        {
          "output_type": "execute_result",
          "data": {
            "text/plain": [
              "31631"
            ]
          },
          "metadata": {
            "tags": []
          },
          "execution_count": 6
        }
      ]
    },
    {
      "cell_type": "code",
      "metadata": {
        "id": "g6BKCurEeUAo",
        "colab_type": "code",
        "colab": {}
      },
      "source": [
        "# The business ID for the business in Las Vegas\n",
        "b_id = []\n",
        "for business in b_vegas:\n",
        "  b_id.append(business['business_id'])"
      ],
      "execution_count": 6,
      "outputs": []
    },
    {
      "cell_type": "code",
      "metadata": {
        "id": "f8M4YxYmsc64",
        "colab_type": "code",
        "colab": {}
      },
      "source": [
        "# read the review data as json\n",
        "r_json = []\n",
        "for st in r1:\n",
        "  r_json.append(json.loads(st))"
      ],
      "execution_count": 7,
      "outputs": []
    },
    {
      "cell_type": "code",
      "metadata": {
        "id": "FjaMeTgItxQ4",
        "colab_type": "code",
        "colab": {
          "base_uri": "https://localhost:8080/",
          "height": 34
        },
        "outputId": "881dc433-b166-4a0a-be0e-8d7e5c460987"
      },
      "source": [
        "# The length of review data\n",
        "len(r_json)"
      ],
      "execution_count": 7,
      "outputs": [
        {
          "output_type": "execute_result",
          "data": {
            "text/plain": [
              "8021122"
            ]
          },
          "metadata": {
            "tags": []
          },
          "execution_count": 7
        }
      ]
    },
    {
      "cell_type": "code",
      "metadata": {
        "id": "WaKqTFWhom_R",
        "colab_type": "code",
        "colab": {}
      },
      "source": [
        "# the business id in review data\n",
        "review_freq = []\n",
        "for i in r_json:\n",
        "  review_freq.append(i['business_id'])"
      ],
      "execution_count": 8,
      "outputs": []
    },
    {
      "cell_type": "code",
      "metadata": {
        "id": "QqusR6AxoDnr",
        "colab_type": "code",
        "colab": {}
      },
      "source": [
        "# count the freq of each id\n",
        "from collections import Counter\n",
        "z = Counter(review_freq)"
      ],
      "execution_count": 9,
      "outputs": []
    },
    {
      "cell_type": "code",
      "metadata": {
        "id": "OfnJ82-o4W2d",
        "colab_type": "code",
        "colab": {
          "base_uri": "https://localhost:8080/",
          "height": 34
        },
        "outputId": "d27b203d-02cd-4879-898d-1d3b79cb18af"
      },
      "source": [
        "# the length of unique id\n",
        "len(z)"
      ],
      "execution_count": null,
      "outputs": [
        {
          "output_type": "execute_result",
          "data": {
            "text/plain": [
              "209393"
            ]
          },
          "metadata": {
            "tags": []
          },
          "execution_count": 10
        }
      ]
    },
    {
      "cell_type": "code",
      "metadata": {
        "id": "SxOi0cVRpvGq",
        "colab_type": "code",
        "colab": {}
      },
      "source": [
        "# the ids that have more than 50 reviews\n",
        "bid_more_than_50 = [k for k,v in z.items() if v>50]"
      ],
      "execution_count": 10,
      "outputs": []
    },
    {
      "cell_type": "code",
      "metadata": {
        "id": "UfEgPzMwtW5p",
        "colab_type": "code",
        "colab": {
          "base_uri": "https://localhost:8080/",
          "height": 34
        },
        "outputId": "7e5406d0-d468-4c21-95af-5451df910892"
      },
      "source": [
        "# the length of ids from previous cell\n",
        "len(bid_more_than_50)"
      ],
      "execution_count": 11,
      "outputs": [
        {
          "output_type": "execute_result",
          "data": {
            "text/plain": [
              "32420"
            ]
          },
          "metadata": {
            "tags": []
          },
          "execution_count": 11
        }
      ]
    },
    {
      "cell_type": "code",
      "metadata": {
        "id": "k2vwmSd5aeVZ",
        "colab_type": "code",
        "colab": {}
      },
      "source": [
        "# extract the ids that are in both bid more than 50 and bid in vegas\n",
        "b50_vegas = []\n",
        "for b50, b_veg in zip(bid_more_than_50, b_id):\n",
        "  if b50 in b_id and b_veg in bid_more_than_50:\n",
        "    b50_vegas.append(b50)"
      ],
      "execution_count": null,
      "outputs": []
    },
    {
      "cell_type": "code",
      "metadata": {
        "id": "dceauRh1bXQx",
        "colab_type": "code",
        "colab": {
          "base_uri": "https://localhost:8080/",
          "height": 34
        },
        "outputId": "71915e17-6db8-4125-927b-fdc602feb4cc"
      },
      "source": [
        "len(b50_vegas)"
      ],
      "execution_count": 16,
      "outputs": [
        {
          "output_type": "execute_result",
          "data": {
            "text/plain": [
              "1873"
            ]
          },
          "metadata": {
            "tags": []
          },
          "execution_count": 16
        }
      ]
    },
    {
      "cell_type": "code",
      "metadata": {
        "id": "_QSAZ7-_eVKh",
        "colab_type": "code",
        "colab": {}
      },
      "source": [
        "# extract the review that are in b50_vegas\n",
        "r_50 = []\n",
        "for r_filter in r_json:\n",
        "  if r_filter['business_id'] in b50_vegas:\n",
        "    r_50.append(r_filter)"
      ],
      "execution_count": 17,
      "outputs": []
    },
    {
      "cell_type": "code",
      "metadata": {
        "id": "nZIvvVlHXF-X",
        "colab_type": "code",
        "colab": {
          "base_uri": "https://localhost:8080/",
          "height": 34
        },
        "outputId": "a64dfe3b-1e5d-4325-fa12-3290f64b96ec"
      },
      "source": [
        "len(r_50)"
      ],
      "execution_count": 18,
      "outputs": [
        {
          "output_type": "execute_result",
          "data": {
            "text/plain": [
              "525106"
            ]
          },
          "metadata": {
            "tags": []
          },
          "execution_count": 18
        }
      ]
    },
    {
      "cell_type": "code",
      "metadata": {
        "id": "f9t8tZVkXI6F",
        "colab_type": "code",
        "colab": {}
      },
      "source": [
        "review_50 = json_normalize(r_50)"
      ],
      "execution_count": 19,
      "outputs": []
    },
    {
      "cell_type": "code",
      "metadata": {
        "id": "m5BWLg-4XWVR",
        "colab_type": "code",
        "colab": {}
      },
      "source": [
        "business_vegas = json_normalize(b_vegas)"
      ],
      "execution_count": 20,
      "outputs": []
    },
    {
      "cell_type": "code",
      "metadata": {
        "id": "BEHfDev2XgjG",
        "colab_type": "code",
        "colab": {}
      },
      "source": [
        "yelp_vegas = pd.merge(review_50, business_vegas, how='inner', left_on='business_id', right_on='business_id')"
      ],
      "execution_count": 21,
      "outputs": []
    },
    {
      "cell_type": "code",
      "metadata": {
        "id": "v9jKkXNZXzJT",
        "colab_type": "code",
        "colab": {
          "base_uri": "https://localhost:8080/",
          "height": 34
        },
        "outputId": "b805aaa3-112b-4848-e71c-1652daa06c6b"
      },
      "source": [
        "# To check if there are ids that include only 1 review\n",
        "a = np.where(yelp_vegas['business_id'].value_counts()==1)\n",
        "len(a[0])"
      ],
      "execution_count": 25,
      "outputs": [
        {
          "output_type": "execute_result",
          "data": {
            "text/plain": [
              "0"
            ]
          },
          "metadata": {
            "tags": []
          },
          "execution_count": 25
        }
      ]
    },
    {
      "cell_type": "code",
      "metadata": {
        "id": "eDCAjAFnfsbh",
        "colab_type": "code",
        "colab": {
          "base_uri": "https://localhost:8080/",
          "height": 34
        },
        "outputId": "056a672f-b38f-45e3-a7d6-f2ba539848a2"
      },
      "source": [
        "yelp_vegas.shape"
      ],
      "execution_count": 29,
      "outputs": [
        {
          "output_type": "execute_result",
          "data": {
            "text/plain": [
              "(525106, 68)"
            ]
          },
          "metadata": {
            "tags": []
          },
          "execution_count": 29
        }
      ]
    },
    {
      "cell_type": "code",
      "metadata": {
        "id": "ZI-BWTICfUY1",
        "colab_type": "code",
        "colab": {
          "base_uri": "https://localhost:8080/",
          "height": 459
        },
        "outputId": "58c2ddc3-fa38-45ff-f037-71f2812fb447"
      },
      "source": [
        "yelp_vegas.columns"
      ],
      "execution_count": 28,
      "outputs": [
        {
          "output_type": "execute_result",
          "data": {
            "text/plain": [
              "Index(['review_id', 'user_id', 'business_id', 'stars_x', 'useful', 'funny',\n",
              "       'cool', 'text', 'date', 'name', 'address', 'city', 'state',\n",
              "       'postal_code', 'latitude', 'longitude', 'stars_y', 'review_count',\n",
              "       'is_open', 'categories', 'attributes.BusinessParking',\n",
              "       'attributes.BikeParking', 'attributes.WiFi',\n",
              "       'attributes.RestaurantsPriceRange2',\n",
              "       'attributes.BusinessAcceptsCreditCards', 'hours.Monday',\n",
              "       'hours.Tuesday', 'hours.Wednesday', 'hours.Thursday', 'hours.Friday',\n",
              "       'hours.Saturday', 'hours', 'attributes.Alcohol',\n",
              "       'attributes.GoodForKids', 'attributes.RestaurantsDelivery',\n",
              "       'attributes.RestaurantsReservations', 'attributes.OutdoorSeating',\n",
              "       'attributes.RestaurantsGoodForGroups', 'attributes.RestaurantsTakeOut',\n",
              "       'attributes.Caters', 'attributes.HasTV', 'attributes.Ambience',\n",
              "       'attributes.RestaurantsAttire', 'attributes.NoiseLevel', 'hours.Sunday',\n",
              "       'attributes.ByAppointmentOnly', 'attributes',\n",
              "       'attributes.WheelchairAccessible', 'attributes.AcceptsInsurance',\n",
              "       'attributes.Music', 'attributes.GoodForMeal', 'attributes.DriveThru',\n",
              "       'attributes.DogsAllowed', 'attributes.RestaurantsTableService',\n",
              "       'attributes.HappyHour', 'attributes.BusinessAcceptsBitcoin',\n",
              "       'attributes.HairSpecializesIn', 'attributes.CoatCheck',\n",
              "       'attributes.BestNights', 'attributes.GoodForDancing',\n",
              "       'attributes.Corkage', 'attributes.BYOB', 'attributes.Smoking',\n",
              "       'attributes.BYOBCorkage', 'attributes.AgesAllowed',\n",
              "       'attributes.RestaurantsCounterService',\n",
              "       'attributes.DietaryRestrictions', 'attributes.Open24Hours'],\n",
              "      dtype='object')"
            ]
          },
          "metadata": {
            "tags": []
          },
          "execution_count": 28
        }
      ]
    },
    {
      "cell_type": "code",
      "metadata": {
        "id": "lamibYApfcvc",
        "colab_type": "code",
        "colab": {}
      },
      "source": [
        "yelp_vegas_50 = yelp_vegas.loc[:,['review_id', 'user_id', 'business_id', 'stars_x', 'useful', 'funny',\n",
        "       'cool', 'text', 'date', 'name', 'address', 'city', 'state',\n",
        "       'postal_code', 'latitude', 'longitude','categories']]"
      ],
      "execution_count": 34,
      "outputs": []
    },
    {
      "cell_type": "code",
      "metadata": {
        "id": "1yspQG0mhs7t",
        "colab_type": "code",
        "colab": {
          "base_uri": "https://localhost:8080/",
          "height": 221
        },
        "outputId": "3c894335-90e4-4f4d-93f9-9ec59159a4f3"
      },
      "source": [
        "yelp_vegas_50['business_id'].value_counts()"
      ],
      "execution_count": 35,
      "outputs": [
        {
          "output_type": "execute_result",
          "data": {
            "text/plain": [
              "4JNXUYY8wbaaDmk3BPzlWw    9536\n",
              "K7lWdNUhCbcnEvI0NhGewg    7594\n",
              "cYwJA2A6I12KNkm2rtXd5g    5586\n",
              "DkYS3arLOhA8si5uUEmHOw    5370\n",
              "2weQS-RnoOBhb1KsHKyoSQ    4953\n",
              "                          ... \n",
              "frBAaI0FRj1BwnToT1AFZA      51\n",
              "ekYwEVTOF2_h0wUxgea4Xw      51\n",
              "NdgsBrZKSsmCNBDfj_0L0A      51\n",
              "JXvLE5CRN88sccZtNeMIrQ      51\n",
              "oXL7Jm7N_dUMKV4Oe-C1lA      51\n",
              "Name: business_id, Length: 1873, dtype: int64"
            ]
          },
          "metadata": {
            "tags": []
          },
          "execution_count": 35
        }
      ]
    },
    {
      "cell_type": "code",
      "metadata": {
        "id": "gYMSk5bQtW-w",
        "colab_type": "code",
        "colab": {}
      },
      "source": [
        "yelp_vegas_50.to_csv('/content/drive/My Drive/Capstone/yelp_vegas_50.csv',index=False)"
      ],
      "execution_count": 36,
      "outputs": []
    }
  ]
}